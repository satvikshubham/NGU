{
 "cells": [
  {
   "cell_type": "code",
   "execution_count": 6,
   "metadata": {},
   "outputs": [],
   "source": [
    "import time\n",
    "from gekko import GEKKO\n",
    "from sympy import *\n",
    "import re\n",
    "\n",
    "class Solution():\n",
    "    def __init__(self):\n",
    "        self.equations = []\n",
    "        self.variables = []\n",
    "        self.num_equations = 0\n",
    "\n",
    "    def process_equations(self, equations):\n",
    "        equations = [x.replace('=', '==') for x in equations]\n",
    "        equations = [x.replace('sin', '_m.sin') for x in equations]\n",
    "        equations = [x.replace('cos', '_m.cos') for x in equations]\n",
    "        equations = [x.replace('tan', '_m.tan') for x in equations]\n",
    "        equations = [x.replace('sqrt', '_m.sqrt') for x in equations]\n",
    "        equations = [x.replace('log', '_m.log') for x in equations]\n",
    "        equations = [x.replace('ln', '_m.log') for x in equations]\n",
    "        equations = [x.replace('exp', '_m.exp') for x in equations]\n",
    "        equations = [x.replace('pi', '_m.pi') for x in equations]\n",
    "        equations = [x.replace('e', '_m.e') for x in equations]\n",
    "        equations = [x.replace('E', '_m.e') for x in equations]\n",
    "        return equations\n",
    "\n",
    "    def get_variables(self, equations):\n",
    "        var_pattern = re.compile(r'\\b[a-zA-Z]+\\w*\\d*\\b')\n",
    "        variables = []\n",
    "        for i in range(len(equations)):\n",
    "            variables += var_pattern.findall(equations[i])\n",
    "        self.variables = list(set(variables))\n",
    "        to_remove = ['sin', 'cos', 'tan', 'sqrt',\n",
    "                    'log', 'ln', 'exp', 'pi', 'e']\n",
    "        for i in range(len(to_remove)):\n",
    "            if to_remove[i] in self.variables:\n",
    "                self.variables.remove(to_remove[i])\n",
    "\n",
    "    def solution(self, equations, num_variables):\n",
    "        equations = self.process_equations(equations)\n",
    "        _m = GEKKO()\n",
    "        self.get_variables(equations)\n",
    "        var_names = [str(var) for var in self.variables]\n",
    "        # Create variables\n",
    "        exec_dict = {}\n",
    "        for var_name in var_names:\n",
    "            exec_dict[var_name] = _m.Var(1)\n",
    "            exec(f\"{var_name} = exec_dict['{var_name}']\")\n",
    "\n",
    "        # Create equations\n",
    "        temp = \"\"\n",
    "        for _x in equations:\n",
    "            temp += _x + ','\n",
    "        temp = temp[:-1]\n",
    "        exec(f\"_m.Equations([{temp}])\")\n",
    "\n",
    "        start_time = time.time()\n",
    "        _m.solve(disp=False)\n",
    "        end_time = time.time()\n",
    "        # Retrieve variable values\n",
    "        answers = [exec_dict[var].value for var in var_names]\n",
    "        _d = {}\n",
    "        for _ in range(len(var_names)):\n",
    "            _d[var_names[_]] = answers[_]\n",
    "            \n",
    "        print(f\"Time taken: {end_time - start_time} seconds\")\n",
    "        return _d\n",
    "        # print(abc.value, b.value, c.value, d.value, k.value, f.value, g.value, h.value, i.value, j.value)\n",
    "s = Solution()"
   ]
  },
  {
   "cell_type": "code",
   "execution_count": null,
   "metadata": {},
   "outputs": [],
   "source": [
    "\n",
    "equations = [\n",
    "    \"5-(100+23*9)*abc+23*9*b-23*20*abc**2+23*20*b**2 = 0\",\n",
    "    \"100*abc-(100+23*9)*b+23*9*c-23*20*b**2+23*20*c**2 = 0\",\n",
    "    \"100*b-(100+23*9)*c+23*9*d-23*20*c**2+23*20*d**2 = 0\",\n",
    "    \"100*c-(100+23*9)*d+23*9*k-23*20*d**2+23*20*k**2 = 0\",\n",
    "    \"100*d-(100+23*9)*k+23*9*f-23*20*k**2+23*20*f**2 = 0\",\n",
    "    \"100*k-(100+23*9)*f+23*9*g-23*20*f**2+23*20*g**2 = 0\",\n",
    "    \"0.039+100*f+(-100+9*23)*g-9*10*h+20*23*g**2-20*10*h**2 = 0\",\n",
    "    \"100*g-(100+9*10)*h-9*10*i-20*10*h**2-20*10*i**2 = 0\",\n",
    "    \"100*h-(100+9*10)*i-9*10*j-20*10*i**2-20*10*j**2 = 0\",\n",
    "    \"100*i-(100+9*10)*j-20*10*j**2 = 0\"\n",
    "]\n",
    "\n",
    "equations1 = [\n",
    "    \"sin(a) + cos(b) = 1\",\n",
    "    \"a + b = 90\"\n",
    "]\n",
    "\n",
    "print(s.solution(equations, len(equations)))\n",
    "print(s.solution(equations1, len(equations1)))\n",
    "# print(s.solution(equations2, len(equations2)))"
   ]
  },
  {
   "cell_type": "code",
   "execution_count": 4,
   "metadata": {},
   "outputs": [
    {
     "name": "stdout",
     "output_type": "stream",
     "text": [
      "['yas', 'xcc']\n",
      "{'yas': [1.8219735533], 'xcc': [2.3811978273]}\n"
     ]
    }
   ],
   "source": [
    "\n",
    "equations2 = [\n",
    "    \"4*xcc**2 + yas**2 = 26\",\n",
    "    \"3*xcc**2 + 25*yas**2 = 100\"\n",
    "]\n",
    "print(s.solution(equations2, len(equations2)))"
   ]
  },
  {
   "cell_type": "code",
   "execution_count": 7,
   "metadata": {},
   "outputs": [
    {
     "name": "stdout",
     "output_type": "stream",
     "text": [
      "['x1', 'y']\n",
      "{'x1': [2.3811978273], 'y': [1.8219735533]}\n"
     ]
    }
   ],
   "source": [
    "equations2 = [\n",
    "    \"4*x1**2 + y**2 = 26\",\n",
    "    \"3*x1**2 + 25*y**2 = 100\"\n",
    "]\n",
    "print(s.solution(equations2, len(equations2)))"
   ]
  },
  {
   "cell_type": "code",
   "execution_count": null,
   "metadata": {},
   "outputs": [],
   "source": [
    "m = GEKKO()\n",
    "exec(\"m.Equations()\")\n",
    "m.solve(disp=False)"
   ]
  },
  {
   "cell_type": "code",
   "execution_count": null,
   "metadata": {},
   "outputs": [],
   "source": [
    "from gekko import GEKKO\n",
    "\n",
    "m = GEKKO()\n",
    "abc, b, c, d, k, f, g, h, i, j = [m.Var(1) for i in range(10)]\n",
    "m.Equations([5-(100+23*9)*abc+23*9*b-23*20*abc**2+23*20*b**2 == 0,\n",
    "             100*abc-(100+23*9)*b+23*9*c-23*20*b**2+23*20*c**2 == 0,\n",
    "             100*b-(100+23*9)*c+23*9*d-23*20*c**2+23*20*d**2 == 0,\n",
    "             100*c-(100+23*9)*d+23*9*k-23*20*d**2+23*20*k**2 == 0,\n",
    "             100*d-(100+23*9)*k+23*9*f-23*20*k**2+23*20*f**2 == 0,\n",
    "             100*k-(100+23*9)*f+23*9*g-23*20*f**2+23*20*g**2 == 0,\n",
    "             0.039+100*f+(-100+9*23)*g-9*10*h+20*23*g**2-20*10*h**2 == 0,\n",
    "             100*g-(100+9*10)*h-9*10*i-20*10*h**2-20*10*i**2 == 0,\n",
    "             100*h-(100+9*10)*i-9*10*j-20*10*i**2-20*10*j**2 == 0,\n",
    "             100*i-(100+9*10)*j-20*10*j**2 == 0])\n",
    "m.solve(disp=False)\n",
    "print(abc.value, b.value, c.value, d.value, k.value, f.value, g.value, h.value, i.value, j.value)"
   ]
  },
  {
   "cell_type": "code",
   "execution_count": null,
   "metadata": {},
   "outputs": [],
   "source": [
    "from gekko import GEKKO\n",
    "from math import pi\n",
    "\n",
    "m = GEKKO()\n",
    "a, b = [m.Var(1) for i in range(2)]\n",
    "m.Equations([m.sin(a) + m.cos(b) == 1, \n",
    "             a + b == pi/2])\n",
    "m.solve(disp=False)\n",
    "print(a.value, b.value)"
   ]
  }
 ],
 "metadata": {
  "kernelspec": {
   "display_name": "Python 3",
   "language": "python",
   "name": "python3"
  },
  "language_info": {
   "codemirror_mode": {
    "name": "ipython",
    "version": 3
   },
   "file_extension": ".py",
   "mimetype": "text/x-python",
   "name": "python",
   "nbconvert_exporter": "python",
   "pygments_lexer": "ipython3",
   "version": "3.11.2"
  },
  "orig_nbformat": 4
 },
 "nbformat": 4,
 "nbformat_minor": 2
}
